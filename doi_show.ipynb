{
 "cells": [
  {
   "cell_type": "code",
   "execution_count": 3,
   "metadata": {},
   "outputs": [],
   "source": [
    "import os\n",
    "import json\n",
    "from tqdm import tqdm\n",
    "\n",
    "with open('final_pairs.json', 'r', encoding='utf-8') as f:\n",
    "    pairs = json.load(f)\n",
    "full_norm = {}\n",
    "for p in pairs.keys():\n",
    "    for n in pairs[p].keys():\n",
    "        full_norm[n] = p    "
   ]
  },
  {
   "cell_type": "code",
   "execution_count": 4,
   "metadata": {},
   "outputs": [],
   "source": [
    "ELEMENTS = ['H', 'He', 'Li', 'Be', 'B', 'C', 'N', 'O', 'F', 'Ne', 'Na', 'Mg', 'Al', 'Si', 'P', 'S', 'Cl', 'Ar', 'K',\n",
    "                'Ca', 'Sc', 'Ti', 'V', 'Cr', 'Mn', 'Fe', 'Co', 'Ni', 'Cu', 'Zn', 'Ga', 'Ge', 'As', 'Se', 'Br', 'Kr',\n",
    "                'Rb', 'Sr', 'Y', 'Zr', 'Nb', 'Mo', 'Tc', 'Ru', 'Rh', 'Pd', 'Ag', 'Cd', 'In', 'Sn', 'Sb', 'Te', 'I',\n",
    "                'Xe', 'Cs', 'Ba', 'La', 'Ce', 'Pr', 'Nd', 'Pm', 'Sm', 'Eu', 'Gd', 'Tb', 'Dy', 'Ho', 'Er', 'Tm', 'Yb',\n",
    "                'Lu', 'Hf', 'Ta', 'W', 'Re', 'Os', 'Ir', 'Pt', 'Au', 'Hg', 'Tl', 'Pb', 'Bi', 'Po', 'At', 'Rn', 'Fr',\n",
    "                'Ra', 'Ac', 'Th', 'Pa', 'U', 'Np', 'Pu', 'Am', 'Cm', 'Bk', 'Cf', 'Es', 'Fm', 'Md', 'No', 'Lr', 'Rf',\n",
    "                'Db', 'Sg', 'Bh', 'Hs', 'Mt', 'Ds', 'Rg', 'Cn', 'Nh', 'Fl', 'Mc', 'Lv', 'Ts', 'Og', 'Uue', 'SiO2']\n",
    "\n",
    "ELEMENT_NAMES = ['hydrogen', 'helium', 'lithium', 'beryllium', 'boron', 'carbon', 'nitrogen', 'oxygen', 'fluorine',\n",
    "                     'neon', 'sodium', 'magnesium', 'aluminium', 'silicon', 'phosphorus', 'sulfur', 'chlorine', 'argon',\n",
    "                     'potassium', 'calcium', 'scandium', 'titanium', 'vanadium', 'chromium', 'manganese', 'iron',\n",
    "                     'cobalt', 'nickel', 'copper', 'zinc', 'gallium', 'germanium', 'arsenic', 'selenium', 'bromine',\n",
    "                     'krypton', 'rubidium', 'strontium', 'yttrium', 'zirconium', 'niobium', 'molybdenum', 'technetium',\n",
    "                     'ruthenium', 'rhodium', 'palladium', 'silver', 'cadmium', 'indium', 'tin', 'antimony', 'tellurium',\n",
    "                     'iodine', 'xenon', 'cesium', 'barium', 'lanthanum', 'cerium', 'praseodymium', 'neodymium',\n",
    "                     'promethium', 'samarium', 'europium', 'gadolinium', 'terbium', 'dysprosium', 'holmium', 'erbium',\n",
    "                     'thulium', 'ytterbium', 'lutetium', 'hafnium', 'tantalum', 'tungsten', 'rhenium', 'osmium',\n",
    "                     'iridium', 'platinum', 'gold', 'mercury', 'thallium', 'lead', 'bismuth', 'polonium', 'astatine',\n",
    "                     'radon', 'francium', 'radium', 'actinium', 'thorium', 'protactinium', 'uranium', 'neptunium',\n",
    "                     'plutonium', 'americium', 'curium', 'berkelium', 'californium', 'einsteinium', 'fermium',\n",
    "                     'mendelevium', 'nobelium', 'lawrencium', 'rutherfordium', 'dubnium', 'seaborgium', 'bohrium',\n",
    "                     'hassium', 'meitnerium', 'darmstadtium', 'roentgenium', 'copernicium', 'nihonium', 'flerovium',\n",
    "                     'moscovium', 'livermorium', 'tennessine', 'oganesson', 'ununennium', 'silica']\n",
    "for i, e in enumerate(ELEMENTS):\n",
    "    full_norm[ELEMENT_NAMES[i]] = e\n",
    "    larger = ELEMENT_NAMES[i][0].upper()+ELEMENT_NAMES[i][1:]\n",
    "    full_norm[larger] = e"
   ]
  },
  {
   "cell_type": "code",
   "execution_count": 5,
   "metadata": {},
   "outputs": [],
   "source": [
    "def return_m(full_norm, m):\n",
    "    if m in full_norm.keys():\n",
    "        return full_norm[m]\n",
    "    else:\n",
    "        return m"
   ]
  },
  {
   "cell_type": "code",
   "execution_count": 6,
   "metadata": {},
   "outputs": [],
   "source": [
    "def reserve_material(dir_name):\n",
    "    check_dir = 'manual check/'+dir_name+'_checked.txt'\n",
    "    new = []\n",
    "    with open(check_dir, 'r', encoding='utf-8') as f:\n",
    "        new_data = f.readlines()\n",
    "        for d in new_data:\n",
    "            name = d.split('\\t')[1]            \n",
    "            new.append(name)\n",
    "            if name[0].isupper():\n",
    "                new.append(name[0].lower()+name[1:])\n",
    "            else:\n",
    "                new.append(name[0].upper()+name[1:])\n",
    "    return new"
   ]
  },
  {
   "cell_type": "code",
   "execution_count": 8,
   "metadata": {},
   "outputs": [
    {
     "name": "stderr",
     "output_type": "stream",
     "text": [
      "  1%|▍                                                                        | 4312/676568 [00:00<00:32, 20990.26it/s]"
     ]
    },
    {
     "name": "stdout",
     "output_type": "stream",
     "text": [
      "['TiO2', 'tiO2', 'silica', 'Silica', 'PEG', 'pEG', 'SiO2', 'siO2', 'PVDF', 'pVDF']\n"
     ]
    },
    {
     "name": "stderr",
     "output_type": "stream",
     "text": [
      "100%|███████████████████████████████████████████████████████████████████████| 676568/676568 [00:37<00:00, 18001.16it/s]\n",
      "  0%|▎                                                                       | 5013/1023296 [00:00<00:40, 25132.03it/s]"
     ]
    },
    {
     "name": "stdout",
     "output_type": "stream",
     "text": [
      "['PDMS', 'pDMS', 'silica', 'Silica', 'TiO2', 'tiO2', 'SiO2', 'siO2', 'ZnO', 'znO']\n"
     ]
    },
    {
     "name": "stderr",
     "output_type": "stream",
     "text": [
      "100%|█████████████████████████████████████████████████████████████████████| 1023296/1023296 [00:58<00:00, 17475.74it/s]\n",
      "  8%|█████▋                                                                    | 3272/42823 [00:00<00:01, 32314.47it/s]"
     ]
    },
    {
     "name": "stdout",
     "output_type": "stream",
     "text": [
      "['TiO2', 'tiO2', 'SiO2', 'siO2', 'PVDF', 'pVDF', 'PDMS', 'pDMS', 'silica', 'Silica']\n"
     ]
    },
    {
     "name": "stderr",
     "output_type": "stream",
     "text": [
      "100%|█████████████████████████████████████████████████████████████████████████| 42823/42823 [00:01<00:00, 34630.71it/s]\n",
      " 53%|██████████████████████████████████████▉                                   | 6206/11784 [00:00<00:00, 61822.60it/s]"
     ]
    },
    {
     "name": "stdout",
     "output_type": "stream",
     "text": [
      "['PVDF', 'pVDF', 'PDMS', 'pDMS', 'silica', 'Silica', 'SiO2', 'siO2', 'PTFE', 'pTFE']\n"
     ]
    },
    {
     "name": "stderr",
     "output_type": "stream",
     "text": [
      "100%|█████████████████████████████████████████████████████████████████████████| 11784/11784 [00:00<00:00, 58118.87it/s]\n",
      "  0%|▏                                                                       | 2765/1350480 [00:00<00:49, 27472.91it/s]"
     ]
    },
    {
     "name": "stdout",
     "output_type": "stream",
     "text": [
      "['TiO2', 'tiO2', 'ZnO', 'znO', 'WO3', 'wO3', 'titania', 'Titania', 'CdS', 'cdS']\n"
     ]
    },
    {
     "name": "stderr",
     "output_type": "stream",
     "text": [
      "100%|██████████████████████████████████████████████████████████████████████| 1350480/1350480 [02:52<00:00, 7814.50it/s]\n",
      "  2%|█▌                                                                       | 3543/163769 [00:00<00:09, 17441.65it/s]"
     ]
    },
    {
     "name": "stdout",
     "output_type": "stream",
     "text": [
      "['TiO2', 'tiO2', 'SiO2', 'siO2', 'PDMS', 'pDMS', 'ZnO', 'znO', 'silica', 'Silica']\n"
     ]
    },
    {
     "name": "stderr",
     "output_type": "stream",
     "text": [
      "100%|███████████████████████████████████████████████████████████████████████| 163769/163769 [00:09<00:00, 16628.59it/s]\n"
     ]
    }
   ],
   "source": [
    "# material_rank (frequency & doi)\n",
    "dir_names = ['Hydrophilic_Elsevier_8921', 'Hydrophobic_Elsevier_13677', 'Oleophobic_Elsevier_581', 'Omniphobic_Elsevier_143', \n",
    "             'Photocatalytic_Elsevier_13437', 'SC_Elesever_2044']\n",
    "\n",
    "for dir_name in dir_names:\n",
    "    with open('material_names/'+dir_name+'/sen_dict.json', 'r', encoding='utf-8') as f:\n",
    "        sen_dict = json.load(f)\n",
    "    reserve = reserve_material(dir_name)\n",
    "    print(reserve[:10])\n",
    "    mat_rank = {}\n",
    "    for s in tqdm(sen_dict.keys()):\n",
    "        doi = sen_dict[s]['doi']\n",
    "        for m in sen_dict[s]['materials'].keys():\n",
    "            if m in full_norm.keys():\n",
    "                m = return_m(full_norm, m)\n",
    "                # print(m)\n",
    "            # print(m)\n",
    "            # print('\\n')\n",
    "            if m in reserve:\n",
    "                if m not in mat_rank.keys():\n",
    "                    mat_rank[m] = {}\n",
    "                    mat_rank[m]['freq'] = 1\n",
    "                    mat_rank[m]['doi'] = [doi]\n",
    "                else:\n",
    "                    mat_rank[m]['freq'] +=1\n",
    "                    if doi not in mat_rank[m]['doi']:\n",
    "                        mat_rank[m]['doi'].append(doi)\n",
    "    ranked_ = sorted(mat_rank.items(), key=lambda item:item[1]['freq'], reverse=True)\n",
    "    json_str = json.dumps(ranked_, indent=4)\n",
    "    with open('doi_show/material_rank/'+dir_name+'.json', 'w', encoding='utf-8') as json_file:\n",
    "        json_file.write(json_str)"
   ]
  },
  {
   "cell_type": "code",
   "execution_count": 9,
   "metadata": {},
   "outputs": [
    {
     "name": "stderr",
     "output_type": "stream",
     "text": [
      "100%|███████████████████████████████████████████████████████████████████████| 676568/676568 [00:33<00:00, 19901.05it/s]\n",
      "100%|█████████████████████████████████████████████████████████████████████| 1023296/1023296 [00:51<00:00, 19940.63it/s]\n",
      "100%|█████████████████████████████████████████████████████████████████████████| 42823/42823 [00:01<00:00, 25433.34it/s]\n",
      "100%|█████████████████████████████████████████████████████████████████████████| 11784/11784 [00:00<00:00, 31575.91it/s]\n",
      "100%|█████████████████████████████████████████████████████████████████████| 1350480/1350480 [01:19<00:00, 17078.65it/s]\n",
      "100%|███████████████████████████████████████████████████████████████████████| 163769/163769 [00:10<00:00, 15088.23it/s]\n"
     ]
    }
   ],
   "source": [
    "# material_dictionary (abb as key, full names-freq-doi)\n",
    "dir_names = ['Hydrophilic_Elsevier_8921', 'Hydrophobic_Elsevier_13677', 'Oleophobic_Elsevier_581', 'Omniphobic_Elsevier_143', \n",
    "             'Photocatalytic_Elsevier_13437', 'SC_Elesever_2044']\n",
    "\n",
    "for dir_name in dir_names:\n",
    "    with open('material_names/'+dir_name+'/sen_dict.json', 'r', encoding='utf-8') as f:\n",
    "        sen_dict = json.load(f)\n",
    "    reserve = reserve_material(dir_name)\n",
    "    mat_dict = {}\n",
    "    for s in tqdm(sen_dict.keys()):\n",
    "        doi = sen_dict[s]['doi']\n",
    "        for m in sen_dict[s]['materials'].keys():\n",
    "            if m in full_norm.keys() or m in full_norm.values():\n",
    "                abb_m = return_m(full_norm, m)\n",
    "                if abb_m in reserve:\n",
    "                    if abb_m not in mat_dict.keys():\n",
    "                        mat_dict[abb_m] = {}\n",
    "                        mat_dict[abb_m][m] = {}\n",
    "                        mat_dict[abb_m][m]['freq'] = 1\n",
    "                        mat_dict[abb_m][m]['doi'] = [doi]\n",
    "                    else:\n",
    "                        if m not in mat_dict[abb_m].keys():\n",
    "                            mat_dict[abb_m][m] = {}\n",
    "                            mat_dict[abb_m][m]['freq'] = 1\n",
    "                            mat_dict[abb_m][m]['doi'] = [doi]\n",
    "                        else:\n",
    "                            mat_dict[abb_m][m]['freq'] +=1\n",
    "                            if doi not in mat_dict[abb_m][m]['doi']:\n",
    "                                mat_dict[abb_m][m]['doi'].append(doi)\n",
    "    json_str = json.dumps(mat_dict, indent=4)\n",
    "    with open('doi_show/material_dictionary/'+dir_name+'.json', 'w', encoding='utf-8') as json_file:\n",
    "        json_file.write(json_str)"
   ]
  },
  {
   "cell_type": "code",
   "execution_count": 10,
   "metadata": {},
   "outputs": [
    {
     "name": "stderr",
     "output_type": "stream",
     "text": [
      "100%|███████████████████████████████████████████████████████████████████████████| 1426/1426 [00:00<00:00, 13535.98it/s]\n",
      "100%|███████████████████████████████████████████████████████████████████████████| 2065/2065 [00:00<00:00, 14652.22it/s]\n",
      "100%|█████████████████████████████████████████████████████████████████████████████| 230/230 [00:00<00:00, 45977.02it/s]\n",
      "100%|███████████████████████████████████████████████████████████████████████████████| 56/56 [00:00<00:00, 56516.13it/s]\n",
      "100%|███████████████████████████████████████████████████████████████████████████| 1642/1642 [00:00<00:00, 13625.06it/s]\n",
      "100%|█████████████████████████████████████████████████████████████████████████████| 494/494 [00:00<00:00, 13138.12it/s]\n"
     ]
    }
   ],
   "source": [
    "# durability, based on rank, mat as key, positive as sub key, freq+doi\n",
    "dir_names = ['Hydrophilic_Elsevier_8921', 'Hydrophobic_Elsevier_13677', 'Oleophobic_Elsevier_581', 'Omniphobic_Elsevier_143', \n",
    "             'Photocatalytic_Elsevier_13437', 'SC_Elesever_2044']\n",
    "\n",
    "for dir_name in dir_names:\n",
    "    du_dict = {}\n",
    "    with open('durability/'+dir_name+'_op.json', 'r', encoding='utf-8') as f:\n",
    "        du = json.load(f)\n",
    "    reserve = reserve_material(dir_name)\n",
    "    for m in tqdm(du.keys()):\n",
    "        for v in du[m].keys():# driver, barrier\n",
    "            if v != 'rate':\n",
    "                for s in du[m][v]:\n",
    "                    doi = s[1]\n",
    "                    sm = return_m(full_norm, m)\n",
    "                    if sm in reserve:\n",
    "                        if sm not in du_dict.keys():\n",
    "                            du_dict[sm] = {}\n",
    "                            du_dict[sm][v] = {}\n",
    "                            du_dict[sm][v]['freq'] = 1\n",
    "                            du_dict[sm][v]['doi'] = [doi]\n",
    "                        else:\n",
    "                            if v not in du_dict[sm].keys():\n",
    "                                du_dict[sm][v] = {}\n",
    "                                du_dict[sm][v]['freq'] = 1\n",
    "                                du_dict[sm][v]['doi'] = [doi]\n",
    "                            else:\n",
    "                                du_dict[sm][v]['freq'] += 1\n",
    "                                du_dict[sm][v]['doi'].append(doi)\n",
    "    with open('doi_show/material_rank/'+dir_name+'.json', 'r', encoding='utf-8') as f:\n",
    "        rank = json.load(f)\n",
    "    new_dict = {}\n",
    "    for r in rank:\n",
    "        mat = r[0]\n",
    "        if mat in du_dict.keys():\n",
    "            new_dict[mat] = du_dict[mat]\n",
    "    json_str = json.dumps(new_dict, indent=4)\n",
    "    with open('doi_show/durability/'+dir_name+'.json', 'w', encoding='utf-8') as json_file:\n",
    "        json_file.write(json_str)\n"
   ]
  },
  {
   "cell_type": "code",
   "execution_count": 18,
   "metadata": {},
   "outputs": [
    {
     "name": "stderr",
     "output_type": "stream",
     "text": [
      "100%|███████████████████████████████████████████████████████████████████████| 676568/676568 [00:31<00:00, 21231.75it/s]\n",
      "  8%|█████▉                                                                 | 56481/676568 [00:00<00:02, 279821.39it/s]"
     ]
    },
    {
     "name": "stdout",
     "output_type": "stream",
     "text": [
      "start type\n"
     ]
    },
    {
     "name": "stderr",
     "output_type": "stream",
     "text": [
      "100%|██████████████████████████████████████████████████████████████████████| 676568/676568 [00:02<00:00, 276504.95it/s]\n"
     ]
    },
    {
     "name": "stdout",
     "output_type": "stream",
     "text": [
      "start ca\n",
      "start sa\n",
      "start idx\n",
      "start tran\n",
      "start du\n"
     ]
    },
    {
     "name": "stderr",
     "output_type": "stream",
     "text": [
      "100%|█████████████████████████████████████████████████████████████████████| 1023296/1023296 [00:43<00:00, 23276.06it/s]\n",
      "  3%|█▊                                                                    | 26513/1023296 [00:00<00:03, 260336.65it/s]"
     ]
    },
    {
     "name": "stdout",
     "output_type": "stream",
     "text": [
      "start type\n"
     ]
    },
    {
     "name": "stderr",
     "output_type": "stream",
     "text": [
      "100%|████████████████████████████████████████████████████████████████████| 1023296/1023296 [00:03<00:00, 275124.57it/s]\n"
     ]
    },
    {
     "name": "stdout",
     "output_type": "stream",
     "text": [
      "start ca\n",
      "start sa\n",
      "start idx\n",
      "start tran\n",
      "start du\n"
     ]
    },
    {
     "name": "stderr",
     "output_type": "stream",
     "text": [
      "100%|█████████████████████████████████████████████████████████████████████████| 42823/42823 [00:01<00:00, 36752.28it/s]\n",
      "100%|████████████████████████████████████████████████████████████████████████| 42823/42823 [00:00<00:00, 264159.60it/s]\n"
     ]
    },
    {
     "name": "stdout",
     "output_type": "stream",
     "text": [
      "start type\n",
      "start ca\n",
      "start sa\n",
      "start idx\n",
      "start tran\n",
      "start du\n"
     ]
    },
    {
     "name": "stderr",
     "output_type": "stream",
     "text": [
      "100%|█████████████████████████████████████████████████████████████████████████| 11784/11784 [00:00<00:00, 60168.75it/s]\n",
      "100%|████████████████████████████████████████████████████████████████████████| 11784/11784 [00:00<00:00, 279803.89it/s]\n"
     ]
    },
    {
     "name": "stdout",
     "output_type": "stream",
     "text": [
      "start type\n",
      "start ca\n",
      "start sa\n",
      "start idx\n",
      "start tran\n",
      "start du\n"
     ]
    },
    {
     "name": "stderr",
     "output_type": "stream",
     "text": [
      "100%|█████████████████████████████████████████████████████████████████████| 1350480/1350480 [00:50<00:00, 26946.73it/s]\n",
      "  4%|██▊                                                                   | 54204/1350480 [00:00<00:04, 269934.46it/s]"
     ]
    },
    {
     "name": "stdout",
     "output_type": "stream",
     "text": [
      "start type\n"
     ]
    },
    {
     "name": "stderr",
     "output_type": "stream",
     "text": [
      "100%|████████████████████████████████████████████████████████████████████| 1350480/1350480 [00:05<00:00, 267262.00it/s]\n"
     ]
    },
    {
     "name": "stdout",
     "output_type": "stream",
     "text": [
      "start ca\n",
      "start sa\n",
      "start idx\n",
      "start tran\n",
      "start du\n"
     ]
    },
    {
     "name": "stderr",
     "output_type": "stream",
     "text": [
      "100%|███████████████████████████████████████████████████████████████████████| 163769/163769 [00:09<00:00, 16552.66it/s]\n",
      " 33%|███████████████████████▍                                               | 54160/163769 [00:00<00:00, 269601.29it/s]"
     ]
    },
    {
     "name": "stdout",
     "output_type": "stream",
     "text": [
      "start type\n"
     ]
    },
    {
     "name": "stderr",
     "output_type": "stream",
     "text": [
      "100%|██████████████████████████████████████████████████████████████████████| 163769/163769 [00:00<00:00, 269366.71it/s]\n"
     ]
    },
    {
     "name": "stdout",
     "output_type": "stream",
     "text": [
      "start ca\n",
      "start sa\n",
      "start idx\n",
      "start tran\n",
      "start du\n"
     ]
    }
   ],
   "source": [
    "# doi-centered, including nano state\n",
    "for dir_name in dir_names:\n",
    "    reserve = reserve_material(dir_name)\n",
    "    # print(non_)\n",
    "    doi_dict = {}\n",
    "    with open('material_names/'+dir_name+'/sen_dict.json', 'r', encoding='utf-8') as f:\n",
    "        sen_dict = json.load(f)\n",
    "    for s in tqdm(sen_dict.keys()):\n",
    "        doi = sen_dict[s]['doi']\n",
    "        if doi not in doi_dict.keys():\n",
    "            doi_dict[doi] = {}\n",
    "            doi_dict[doi]['material'] = {}\n",
    "            doi_dict[doi]['ca'] = []\n",
    "            doi_dict[doi]['sa'] = []\n",
    "            doi_dict[doi]['idx'] = []\n",
    "            doi_dict[doi]['tr'] = []\n",
    "            doi_dict[doi]['du'] = {}\n",
    "        for m in sen_dict[s]['materials'].keys():\n",
    "            m = return_m(full_norm, m)\n",
    "            if m in reserve:\n",
    "                if m not in doi_dict[doi]['material'].keys():\n",
    "                    doi_dict[doi]['material'][m] = {}\n",
    "                    doi_dict[doi]['material'][m]['freq'] = 1\n",
    "                else:\n",
    "                    doi_dict[doi]['material'][m]['freq'] += 1\n",
    "    print('start type')\n",
    "    doi_dict = update_type(doi_dict, sen_dict)\n",
    "    print('start ca')\n",
    "    doi_dict = update_ca(doi_dict, dir_name)\n",
    "    print('start sa')\n",
    "    doi_dict = update_sa(doi_dict, dir_name)\n",
    "    print('start idx')\n",
    "    doi_dict = update_idx(doi_dict, dir_name)\n",
    "    print('start tran')\n",
    "    doi_dict = update_tran(doi_dict, dir_name)\n",
    "    print('start du')\n",
    "    doi_dict = update_du(doi_dict, dir_name)\n",
    "    json_str = json.dumps(doi_dict, indent=4)\n",
    "    with open('doi_show/doi_center/'+dir_name+'.json', 'w', encoding='utf-8') as json_file:\n",
    "        json_file.write(json_str)"
   ]
  },
  {
   "cell_type": "code",
   "execution_count": 25,
   "metadata": {},
   "outputs": [],
   "source": [
    "# measure rank value as key, doi list\n",
    "dir_names = ['Hydrophilic_Elsevier_8921', 'Hydrophobic_Elsevier_13677', 'Oleophobic_Elsevier_581', 'Omniphobic_Elsevier_143', \n",
    "             'Photocatalytic_Elsevier_13437', 'SC_Elesever_2044']\n",
    "for dir_name in dir_names:\n",
    "    value_doi = {}\n",
    "    with open('index_update/'+dir_name+'_idx.json', 'r', encoding='utf-8') as f:\n",
    "        sa = json.load(f)\n",
    "    reserve = reserve_material(dir_name)\n",
    "    for m in sa.keys():\n",
    "        for v in sa[m].keys():\n",
    "            for s in sa[m][v]:\n",
    "                sen = s[0]\n",
    "                doi = s[1]\n",
    "                sm = return_m(full_norm, m)\n",
    "                if sm in reserve:\n",
    "                    if float(v) not in value_doi.keys():\n",
    "                        value_doi[float(v)] = [(doi, sm)]\n",
    "                    else:\n",
    "                        if (doi, sm) not in value_doi[float(v)]:\n",
    "                            value_doi[float(v)].append((doi, sm))\n",
    "    ranked = sorted(value_doi.items(),key=lambda x:x[0], reverse=True)\n",
    "    json_str = json.dumps(ranked, indent=4)\n",
    "    with open('doi_show/idx/'+dir_name+'.json', 'w', encoding='utf-8') as json_file:\n",
    "        json_file.write(json_str)"
   ]
  },
  {
   "cell_type": "markdown",
   "metadata": {},
   "source": [
    "# support functions"
   ]
  },
  {
   "cell_type": "code",
   "execution_count": 12,
   "metadata": {},
   "outputs": [],
   "source": [
    "# type\n",
    "import re\n",
    "\n",
    "\n",
    "def update_type(doi_dict, sen_dict):\n",
    "    nano_types = ['nanoparticle', 'nanofiber', 'nanotube', 'nanorod', 'nanoplate', 'nanosheet', 'nanoribbon', 'nanocomposite', 'nanofoam', \n",
    "              'nanoporous', 'nanopores', 'nanocrystalline', 'nanocrystals', 'nanowires', 'nanotexture']\n",
    "    type_dict = {}\n",
    "    for s in tqdm(list(sen_dict.keys())):\n",
    "        doi = sen_dict[s]['doi']\n",
    "        for n in nano_types:\n",
    "            if n in s:\n",
    "                pos = [substr.start() for substr in re.finditer(n, s)]\n",
    "                for p in pos:\n",
    "                    min_dis = 100\n",
    "                    min_mat = ''\n",
    "                    for mat in sen_dict[s]['materials'].keys():\n",
    "                        if abs(sen_dict[s]['materials'][mat][0]-p)<min_dis:\n",
    "                            min_dis = abs(sen_dict[s]['materials'][mat][0]-p)\n",
    "                            min_mat = mat\n",
    "                    m  = return_m(full_norm, min_mat)\n",
    "                    if m in doi_dict[doi]['material'].keys():\n",
    "                        if n not in doi_dict[doi]['material'][m].keys():\n",
    "                            doi_dict[doi]['material'][m][n] = 1\n",
    "                        else:\n",
    "                            doi_dict[doi]['material'][m][n] += 1\n",
    "    return doi_dict"
   ]
  },
  {
   "cell_type": "code",
   "execution_count": 13,
   "metadata": {},
   "outputs": [],
   "source": [
    "# ca\n",
    "def update_ca(doi_dict, dir_name):\n",
    "    with open('angle_update/'+dir_name+'_ca.json', 'r', encoding='utf-8') as f:\n",
    "        ca = json.load(f)\n",
    "    for m in ca.keys():\n",
    "        for v in ca[m].keys():\n",
    "            for s in ca[m][v]:\n",
    "                sen = s[0]\n",
    "                doi = s[1]\n",
    "                sm = return_m(full_norm, m)\n",
    "                if sm in doi_dict[doi]['material'].keys():\n",
    "                    if v not in doi_dict[doi]['ca']:\n",
    "                        doi_dict[doi]['ca'].append(v)\n",
    "    return doi_dict"
   ]
  },
  {
   "cell_type": "code",
   "execution_count": 14,
   "metadata": {},
   "outputs": [],
   "source": [
    "# sa\n",
    "def update_sa(doi_dict, dir_name):\n",
    "    with open('angle_update/'+dir_name+'_sa.json', 'r', encoding='utf-8') as f:\n",
    "        sa = json.load(f)\n",
    "    for m in sa.keys():\n",
    "        for v in sa[m].keys():\n",
    "            for s in sa[m][v]:\n",
    "                sen = s[0]\n",
    "                doi = s[1]\n",
    "                sm = return_m(full_norm, m)\n",
    "                if sm in doi_dict[doi]['material'].keys():\n",
    "                    if v not in doi_dict[doi]['sa']:\n",
    "                        doi_dict[doi]['sa'].append(v) \n",
    "    return doi_dict"
   ]
  },
  {
   "cell_type": "code",
   "execution_count": 15,
   "metadata": {},
   "outputs": [],
   "source": [
    "# index\n",
    "def update_idx(doi_dict, dir_name):\n",
    "    with open('index_update/'+dir_name+'_idx.json', 'r', encoding='utf-8') as f:\n",
    "        idx = json.load(f)\n",
    "    for m in idx.keys():\n",
    "        for v in idx[m].keys():\n",
    "            for s in idx[m][v]:\n",
    "                sen = s[0]\n",
    "                doi = s[1]\n",
    "                sm = return_m(full_norm, m)\n",
    "                if sm in doi_dict[doi]['material'].keys():\n",
    "                    if v not in doi_dict[doi]['idx'] and float(v) >= 1:\n",
    "                        doi_dict[doi]['idx'].append(v)\n",
    "    return doi_dict"
   ]
  },
  {
   "cell_type": "code",
   "execution_count": 16,
   "metadata": {},
   "outputs": [],
   "source": [
    "# transmittance\n",
    "def update_tran(doi_dict, dir_name):\n",
    "    with open('transmittance_update/'+dir_name+'_tr.json', 'r', encoding='utf-8') as f:\n",
    "        tr = json.load(f)\n",
    "    for m in tr.keys():\n",
    "        for v in tr[m].keys():\n",
    "            for s in tr[m][v]:\n",
    "                sen = s[0]\n",
    "                doi = s[1]\n",
    "                sm = return_m(full_norm, m)\n",
    "                if sm in doi_dict[doi]['material'].keys():\n",
    "                    if v not in doi_dict[doi]['tr']:\n",
    "                        doi_dict[doi]['tr'].append(v)\n",
    "    return doi_dict"
   ]
  },
  {
   "cell_type": "code",
   "execution_count": 17,
   "metadata": {},
   "outputs": [],
   "source": [
    "# durability\n",
    "def update_du(doi_dict, dir_name):\n",
    "    with open('durability/'+dir_name+'_op.json', 'r', encoding='utf-8') as f:\n",
    "        du = json.load(f)\n",
    "    for m in du.keys():\n",
    "        for v in du[m].keys():# driver, barrier\n",
    "            if v != 'rate':\n",
    "                for s in du[m][v]:\n",
    "                    sen = s[0]\n",
    "                    doi = s[1]\n",
    "                    sm = return_m(full_norm, m)\n",
    "                    if sm in doi_dict[doi]['material'].keys():\n",
    "                        if sm not in doi_dict[doi]['du'].keys():\n",
    "                            doi_dict[doi]['du'][sm] = {}\n",
    "                            doi_dict[doi]['du'][sm][v] = 1\n",
    "                        else:\n",
    "                            if v not in doi_dict[doi]['du'][sm].keys():\n",
    "                                doi_dict[doi]['du'][sm][v] = 1\n",
    "                            else:\n",
    "                                doi_dict[doi]['du'][sm][v] += 1\n",
    "    return doi_dict"
   ]
  },
  {
   "cell_type": "code",
   "execution_count": null,
   "metadata": {},
   "outputs": [],
   "source": []
  }
 ],
 "metadata": {
  "kernelspec": {
   "display_name": "Python 3",
   "language": "python",
   "name": "python3"
  },
  "language_info": {
   "codemirror_mode": {
    "name": "ipython",
    "version": 3
   },
   "file_extension": ".py",
   "mimetype": "text/x-python",
   "name": "python",
   "nbconvert_exporter": "python",
   "pygments_lexer": "ipython3",
   "version": "3.8.5"
  }
 },
 "nbformat": 4,
 "nbformat_minor": 4
}
