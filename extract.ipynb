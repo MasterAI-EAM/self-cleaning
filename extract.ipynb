{
 "cells": [
  {
   "cell_type": "code",
   "execution_count": 6,
   "id": "bbc90951",
   "metadata": {},
   "outputs": [
    {
     "name": "stdout",
     "output_type": "stream",
     "text": [
      "2071\n",
      "3582\n",
      "269\n",
      "88\n",
      "194\n",
      "589\n"
     ]
    }
   ],
   "source": [
    "import os\n",
    "import json\n",
    "from tqdm import tqdm\n",
    "import random\n",
    "\n",
    "names = os.listdir('material_names')\n",
    "random.seed(0)\n",
    "for n in names[2:]:\n",
    "    sen_dict = {}\n",
    "    with open('angle_update/'+n+'_ca.json', 'r', encoding='utf-8') as f:\n",
    "        tmp_dict = json.load(f)\n",
    "        for m in tmp_dict.keys():\n",
    "            for v in tmp_dict[m].keys():\n",
    "                for t_set in tmp_dict[m][v]:\n",
    "                    if t_set[0] not in sen_dict.keys():\n",
    "                        sen_dict[t_set[0]] = {}\n",
    "                        sen_dict[t_set[0]]['doi'] = t_set[1]\n",
    "                        sen_dict[t_set[0]]['mat_degree'] = [(m,v)]\n",
    "                    else:\n",
    "                        if (m,v) not in sen_dict[t_set[0]]['mat_degree']:\n",
    "                            sen_dict[t_set[0]]['mat_degree'].append((m,v))\n",
    "    # for s in sen_dict.keys():\n",
    "        # if len(sen_dict[s].keys())>2:\n",
    "            # print(s, sen_dict[s])\n",
    "    print(len(sen_dict.keys()))\n",
    "    if len(sen_dict.keys())>100:\n",
    "        sen_100 = random.sample(sen_dict.keys(), 100)\n",
    "    else:\n",
    "        sen_100 = sen_dict.keys()\n",
    "    with open('for_eval/ca/'+n+'.txt','w',encoding='utf-8') as f:\n",
    "        for i, s in enumerate(sen_100):\n",
    "            f.write(str(i+1)+'\\t'+s+'\\n')\n",
    "            f.write(str(sen_dict[s])+'\\n')\n",
    "            f.write('\\n')\n",
    "            "
   ]
  },
  {
   "cell_type": "code",
   "execution_count": null,
   "id": "15edc940",
   "metadata": {},
   "outputs": [],
   "source": []
  }
 ],
 "metadata": {
  "kernelspec": {
   "display_name": "Python 3",
   "language": "python",
   "name": "python3"
  },
  "language_info": {
   "codemirror_mode": {
    "name": "ipython",
    "version": 3
   },
   "file_extension": ".py",
   "mimetype": "text/x-python",
   "name": "python",
   "nbconvert_exporter": "python",
   "pygments_lexer": "ipython3",
   "version": "3.8.8"
  }
 },
 "nbformat": 4,
 "nbformat_minor": 5
}
